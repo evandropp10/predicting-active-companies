{
 "cells": [
  {
   "cell_type": "code",
   "execution_count": 1,
   "metadata": {},
   "outputs": [],
   "source": [
    "import pandas as pd\n",
    "from sklearn import metrics"
   ]
  },
  {
   "cell_type": "code",
   "execution_count": 2,
   "metadata": {},
   "outputs": [],
   "source": [
    "df01 = pd.read_csv('model01.csv')"
   ]
  },
  {
   "cell_type": "code",
   "execution_count": 8,
   "metadata": {},
   "outputs": [
    {
     "name": "stdout",
     "output_type": "stream",
     "text": [
      "Classification Report: \n",
      "               precision    recall  f1-score   support\n",
      "\n",
      "           0       0.00      0.00      0.00      3414\n",
      "           1       0.79      1.00      0.88     12586\n",
      "\n",
      "   micro avg       0.79      0.79      0.79     16000\n",
      "   macro avg       0.39      0.50      0.44     16000\n",
      "weighted avg       0.62      0.79      0.69     16000\n",
      "\n"
     ]
    }
   ],
   "source": [
    "print('Classification Report: \\n', metrics.classification_report(df01['Test'], df01['Prediction']))\n"
   ]
  },
  {
   "cell_type": "code",
   "execution_count": 7,
   "metadata": {},
   "outputs": [
    {
     "name": "stdout",
     "output_type": "stream",
     "text": [
      "Confusion Matrix: \n",
      " [[    0  3414]\n",
      " [    0 12586]]\n"
     ]
    }
   ],
   "source": [
    "print('Confusion Matrix: \\n', metrics.confusion_matrix(df01['Test'], df01['Prediction']))\n"
   ]
  },
  {
   "cell_type": "code",
   "execution_count": null,
   "metadata": {},
   "outputs": [],
   "source": [
    "\n"
   ]
  },
  {
   "cell_type": "code",
   "execution_count": 9,
   "metadata": {},
   "outputs": [],
   "source": [
    "df02 = pd.read_csv('model02.csv')"
   ]
  },
  {
   "cell_type": "code",
   "execution_count": 11,
   "metadata": {},
   "outputs": [
    {
     "name": "stdout",
     "output_type": "stream",
     "text": [
      "Classification Report: \n",
      "               precision    recall  f1-score   support\n",
      "\n",
      "           0       0.46      0.56      0.51      3414\n",
      "           1       0.87      0.82      0.85     12586\n",
      "\n",
      "   micro avg       0.77      0.77      0.77     16000\n",
      "   macro avg       0.67      0.69      0.68     16000\n",
      "weighted avg       0.78      0.77      0.77     16000\n",
      "\n"
     ]
    }
   ],
   "source": [
    "print('Classification Report: \\n', metrics.classification_report(df02['Test'], df02['Prediction']))\n"
   ]
  },
  {
   "cell_type": "code",
   "execution_count": 13,
   "metadata": {},
   "outputs": [
    {
     "name": "stdout",
     "output_type": "stream",
     "text": [
      "Confusion Matrix: \n",
      " [[ 1919  1495]\n",
      " [ 2264 10322]]\n"
     ]
    }
   ],
   "source": [
    "print('Confusion Matrix: \\n', metrics.confusion_matrix(df02['Test'], df02['Prediction']))\n"
   ]
  },
  {
   "cell_type": "code",
   "execution_count": null,
   "metadata": {},
   "outputs": [],
   "source": []
  },
  {
   "cell_type": "code",
   "execution_count": 14,
   "metadata": {},
   "outputs": [],
   "source": [
    "df03 = pd.read_csv('model03.csv')"
   ]
  },
  {
   "cell_type": "code",
   "execution_count": 15,
   "metadata": {},
   "outputs": [
    {
     "name": "stdout",
     "output_type": "stream",
     "text": [
      "Classification Report: \n",
      "               precision    recall  f1-score   support\n",
      "\n",
      "           0       0.41      1.00      0.58      3414\n",
      "           1       1.00      0.60      0.75     12586\n",
      "\n",
      "   micro avg       0.69      0.69      0.69     16000\n",
      "   macro avg       0.70      0.80      0.66     16000\n",
      "weighted avg       0.87      0.69      0.71     16000\n",
      "\n"
     ]
    }
   ],
   "source": [
    "print('Classification Report: \\n', metrics.classification_report(df03['Test'], df03['Prediction']))\n"
   ]
  },
  {
   "cell_type": "code",
   "execution_count": 16,
   "metadata": {},
   "outputs": [
    {
     "name": "stdout",
     "output_type": "stream",
     "text": [
      "Confusion Matrix: \n",
      " [[3414    0]\n",
      " [5004 7582]]\n"
     ]
    }
   ],
   "source": [
    "print('Confusion Matrix: \\n', metrics.confusion_matrix(df03['Test'], df03['Prediction']))\n"
   ]
  },
  {
   "cell_type": "code",
   "execution_count": 17,
   "metadata": {},
   "outputs": [],
   "source": [
    "df05 = pd.read_csv('model05.csv')"
   ]
  },
  {
   "cell_type": "code",
   "execution_count": 18,
   "metadata": {},
   "outputs": [
    {
     "name": "stdout",
     "output_type": "stream",
     "text": [
      "Classification Report: \n",
      "               precision    recall  f1-score   support\n",
      "\n",
      "           0       0.00      0.00      0.00      3414\n",
      "           1       0.79      1.00      0.88     12586\n",
      "\n",
      "   micro avg       0.79      0.79      0.79     16000\n",
      "   macro avg       0.39      0.50      0.44     16000\n",
      "weighted avg       0.62      0.79      0.69     16000\n",
      "\n"
     ]
    }
   ],
   "source": [
    "print('Classification Report: \\n', metrics.classification_report(df05['Test'], df05['Prediction']))\n"
   ]
  },
  {
   "cell_type": "code",
   "execution_count": 19,
   "metadata": {},
   "outputs": [
    {
     "name": "stdout",
     "output_type": "stream",
     "text": [
      "Confusion Matrix: \n",
      " [[    0  3414]\n",
      " [    0 12586]]\n"
     ]
    }
   ],
   "source": [
    "print('Confusion Matrix: \\n', metrics.confusion_matrix(df05['Test'], df05['Prediction']))\n"
   ]
  },
  {
   "cell_type": "code",
   "execution_count": null,
   "metadata": {},
   "outputs": [],
   "source": []
  }
 ],
 "metadata": {
  "kernelspec": {
   "display_name": "Python 3",
   "language": "python",
   "name": "python3"
  },
  "language_info": {
   "codemirror_mode": {
    "name": "ipython",
    "version": 3
   },
   "file_extension": ".py",
   "mimetype": "text/x-python",
   "name": "python",
   "nbconvert_exporter": "python",
   "pygments_lexer": "ipython3",
   "version": "3.6.7"
  }
 },
 "nbformat": 4,
 "nbformat_minor": 2
}
